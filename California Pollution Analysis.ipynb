{
 "cells": [
  {
   "cell_type": "markdown",
   "metadata": {},
   "source": [
    "I found the data set here: https://www.kaggle.com/sogun3/uspollution. However, I modified it first to just California pollution, rather than the entire United States, and then later to just Los Angeles pollution. \n",
    "\n",
    "You can work with the original data set and I'll provide a code below to convert it to just Los Angeles data; that's purely for learning how to clean data. Alternatively, you can just look at the Los Angeles csv file I provide on GitHub (the other two files are too large for GitHub). "
   ]
  },
  {
   "cell_type": "markdown",
   "metadata": {},
   "source": [
    "We will analyze the four major pollutants: Nitrogen Dioxide (NO2), Sulphur Dioxide (SO2), Carbon Monoxide (CO), and Ozone (O3) in the city of Los Angeles. I'm interested to see how these change over time (2000-2016). I will also upload a Tableau dashboard, comparing prior years to current year.  \n",
    "\n",
    "AQI stands for air quality index. 4 out of the 5 major pollutants are calculated - excluding particulate matter - in this data set. Here is a chart that illustrates this: \n",
    "\n",
    "<img src=\"files/image.png\">\n",
    "\n",
    "On another note, keep in mind that ozone in the atmosphere has a different effect that the ground-level ozone that is being measured here. Oxygen (O2 in natural form) in the stratosphere reacts with ultraviolet light, which then breaks it down into two single Oxygen atoms. These single atoms will collide with natural oxygen (O2) to make O3, which protects the Earth from ultraviolet rays. "
   ]
  },
  {
   "cell_type": "markdown",
   "metadata": {},
   "source": [
    "# Imports"
   ]
  },
  {
   "cell_type": "code",
   "execution_count": 1,
   "metadata": {
    "ExecuteTime": {
     "end_time": "2019-07-26T01:08:19.535941Z",
     "start_time": "2019-07-26T01:08:14.725652Z"
    }
   },
   "outputs": [
    {
     "data": {
      "text/html": [
       "<script type=\"text/javascript\">window.PlotlyConfig = {MathJaxConfig: 'local'};</script><script type=\"text/javascript\">if (window.MathJax) {MathJax.Hub.Config({SVG: {font: \"STIX-Web\"}});}</script><script>requirejs.config({paths: { 'plotly': ['https://cdn.plot.ly/plotly-latest.min']},});if(!window._Plotly) {require(['plotly'],function(plotly) {window._Plotly=plotly;});}</script>"
      ],
      "text/vnd.plotly.v1+html": [
       "<script type=\"text/javascript\">window.PlotlyConfig = {MathJaxConfig: 'local'};</script><script type=\"text/javascript\">if (window.MathJax) {MathJax.Hub.Config({SVG: {font: \"STIX-Web\"}});}</script><script>requirejs.config({paths: { 'plotly': ['https://cdn.plot.ly/plotly-latest.min']},});if(!window._Plotly) {require(['plotly'],function(plotly) {window._Plotly=plotly;});}</script>"
      ]
     },
     "metadata": {},
     "output_type": "display_data"
    },
    {
     "data": {
      "text/html": [
       "<script type=\"text/javascript\">window.PlotlyConfig = {MathJaxConfig: 'local'};</script><script type=\"text/javascript\">if (window.MathJax) {MathJax.Hub.Config({SVG: {font: \"STIX-Web\"}});}</script><script>requirejs.config({paths: { 'plotly': ['https://cdn.plot.ly/plotly-latest.min']},});if(!window._Plotly) {require(['plotly'],function(plotly) {window._Plotly=plotly;});}</script>"
      ],
      "text/vnd.plotly.v1+html": [
       "<script type=\"text/javascript\">window.PlotlyConfig = {MathJaxConfig: 'local'};</script><script type=\"text/javascript\">if (window.MathJax) {MathJax.Hub.Config({SVG: {font: \"STIX-Web\"}});}</script><script>requirejs.config({paths: { 'plotly': ['https://cdn.plot.ly/plotly-latest.min']},});if(!window._Plotly) {require(['plotly'],function(plotly) {window._Plotly=plotly;});}</script>"
      ]
     },
     "metadata": {},
     "output_type": "display_data"
    },
    {
     "data": {
      "text/html": [
       "<script type=\"text/javascript\">window.PlotlyConfig = {MathJaxConfig: 'local'};</script><script type=\"text/javascript\">if (window.MathJax) {MathJax.Hub.Config({SVG: {font: \"STIX-Web\"}});}</script><script>requirejs.config({paths: { 'plotly': ['https://cdn.plot.ly/plotly-latest.min']},});if(!window._Plotly) {require(['plotly'],function(plotly) {window._Plotly=plotly;});}</script>"
      ],
      "text/vnd.plotly.v1+html": [
       "<script type=\"text/javascript\">window.PlotlyConfig = {MathJaxConfig: 'local'};</script><script type=\"text/javascript\">if (window.MathJax) {MathJax.Hub.Config({SVG: {font: \"STIX-Web\"}});}</script><script>requirejs.config({paths: { 'plotly': ['https://cdn.plot.ly/plotly-latest.min']},});if(!window._Plotly) {require(['plotly'],function(plotly) {window._Plotly=plotly;});}</script>"
      ]
     },
     "metadata": {},
     "output_type": "display_data"
    },
    {
     "data": {
      "text/html": [
       "<script type=\"text/javascript\">window.PlotlyConfig = {MathJaxConfig: 'local'};</script><script type=\"text/javascript\">if (window.MathJax) {MathJax.Hub.Config({SVG: {font: \"STIX-Web\"}});}</script><script>requirejs.config({paths: { 'plotly': ['https://cdn.plot.ly/plotly-latest.min']},});if(!window._Plotly) {require(['plotly'],function(plotly) {window._Plotly=plotly;});}</script>"
      ],
      "text/vnd.plotly.v1+html": [
       "<script type=\"text/javascript\">window.PlotlyConfig = {MathJaxConfig: 'local'};</script><script type=\"text/javascript\">if (window.MathJax) {MathJax.Hub.Config({SVG: {font: \"STIX-Web\"}});}</script><script>requirejs.config({paths: { 'plotly': ['https://cdn.plot.ly/plotly-latest.min']},});if(!window._Plotly) {require(['plotly'],function(plotly) {window._Plotly=plotly;});}</script>"
      ]
     },
     "metadata": {},
     "output_type": "display_data"
    }
   ],
   "source": [
    "# I/O and Computation \n",
    "import pandas as pd \n",
    "import numpy as np\n",
    "\n",
    "# visualization\n",
    "from datetime import datetime\n",
    "import matplotlib as mpl\n",
    "import matplotlib.pyplot as plt\n",
    "import seaborn as sns\n",
    "%matplotlib inline\n",
    "\n",
    "# Standard plotly imports \n",
    "import plotly.plotly as py\n",
    "import plotly.graph_objs as go\n",
    "\n",
    "# Offline mode\n",
    "from plotly.offline import init_notebook_mode, iplot\n",
    "init_notebook_mode(connected=True)\n",
    "\n",
    "# Using plotly + cufflinks in offline mode \n",
    "import cufflinks as cf \n",
    "cf.go_offline(connected=True) \n",
    "init_notebook_mode(connected=True) \n",
    "\n",
    "\n",
    "# read, with index values reset to default primary keys\n",
    "# original pollution csv file made smaller to observe just \n",
    "# California. Then this csv file is made even smaller by\n",
    "# looking at Los Angeles. On Github, only the Los Angeles csv\n",
    "# file will be provided, but you can use the link above to \n",
    "# start from scratch. Code is below: \n",
    "\n",
    "# df = pd.read_csv('pollution_us_2000_2016.csv')\n",
    "# df_cal = df.copy()\n",
    "# df_cal = df_cal.loc[df_cal['State']=='California']\n",
    "# df_cal.to_csv('pollution_california.csv', encoding='utf-8', index=False)\n",
    "df_los = pd.read_csv(\"pollution_la.csv\", index_col=False)"
   ]
  },
  {
   "cell_type": "markdown",
   "metadata": {},
   "source": [
    "# Data Cleaning"
   ]
  },
  {
   "cell_type": "markdown",
   "metadata": {},
   "source": [
    "**Objective**\n",
    "- Take out unnecessary columns\n",
    "- Eliminate missing values \n",
    "- Restrict this csv file to Los Angeles area. "
   ]
  },
  {
   "cell_type": "markdown",
   "metadata": {},
   "source": [
    "Some of these columns are unnecessary to our analysis - address, site num, country code, etc. The values we mainly care about are the date, the air quality index, and potentially the mean values. "
   ]
  },
  {
   "cell_type": "code",
   "execution_count": 2,
   "metadata": {
    "ExecuteTime": {
     "end_time": "2019-07-26T01:08:19.624848Z",
     "start_time": "2019-07-26T01:08:19.542897Z"
    }
   },
   "outputs": [
    {
     "data": {
      "text/html": [
       "<div>\n",
       "<style scoped>\n",
       "    .dataframe tbody tr th:only-of-type {\n",
       "        vertical-align: middle;\n",
       "    }\n",
       "\n",
       "    .dataframe tbody tr th {\n",
       "        vertical-align: top;\n",
       "    }\n",
       "\n",
       "    .dataframe thead th {\n",
       "        text-align: right;\n",
       "    }\n",
       "</style>\n",
       "<table border=\"1\" class=\"dataframe\">\n",
       "  <thead>\n",
       "    <tr style=\"text-align: right;\">\n",
       "      <th></th>\n",
       "      <th>Datetime</th>\n",
       "      <th>Year</th>\n",
       "      <th>Month</th>\n",
       "      <th>Day</th>\n",
       "      <th>City</th>\n",
       "      <th>Date Local</th>\n",
       "      <th>NO2 Mean</th>\n",
       "      <th>NO2 1st Max Value</th>\n",
       "      <th>NO2 1st Max Hour</th>\n",
       "      <th>NO2 AQI</th>\n",
       "      <th>...</th>\n",
       "      <th>CO 1st Max Hour</th>\n",
       "      <th>CO AQI</th>\n",
       "      <th>CO AQI 2000</th>\n",
       "      <th>CO AQI 2015</th>\n",
       "      <th>NO2 AQI 2000</th>\n",
       "      <th>NO2 AQI 2015</th>\n",
       "      <th>O3 AQI 2000</th>\n",
       "      <th>O3 AQI 2015</th>\n",
       "      <th>SO2 AQI 2000</th>\n",
       "      <th>SO2 AQI 2015</th>\n",
       "    </tr>\n",
       "  </thead>\n",
       "  <tbody>\n",
       "    <tr>\n",
       "      <th>0</th>\n",
       "      <td>2000-03-01</td>\n",
       "      <td>2000</td>\n",
       "      <td>3</td>\n",
       "      <td>1</td>\n",
       "      <td>Los Angeles</td>\n",
       "      <td>2000-03-01</td>\n",
       "      <td>33.521739</td>\n",
       "      <td>48.0</td>\n",
       "      <td>22</td>\n",
       "      <td>45</td>\n",
       "      <td>...</td>\n",
       "      <td>8</td>\n",
       "      <td>18.0</td>\n",
       "      <td>18.5</td>\n",
       "      <td>6.4</td>\n",
       "      <td>60.3</td>\n",
       "      <td>31.3</td>\n",
       "      <td>32.7</td>\n",
       "      <td>43.0</td>\n",
       "      <td>7.14</td>\n",
       "      <td>0.85</td>\n",
       "    </tr>\n",
       "    <tr>\n",
       "      <th>1</th>\n",
       "      <td>2000-03-02</td>\n",
       "      <td>2000</td>\n",
       "      <td>3</td>\n",
       "      <td>2</td>\n",
       "      <td>Los Angeles</td>\n",
       "      <td>2000-03-02</td>\n",
       "      <td>44.173913</td>\n",
       "      <td>55.0</td>\n",
       "      <td>18</td>\n",
       "      <td>52</td>\n",
       "      <td>...</td>\n",
       "      <td>4</td>\n",
       "      <td>25.0</td>\n",
       "      <td>18.5</td>\n",
       "      <td>6.4</td>\n",
       "      <td>60.3</td>\n",
       "      <td>31.3</td>\n",
       "      <td>32.7</td>\n",
       "      <td>43.0</td>\n",
       "      <td>7.14</td>\n",
       "      <td>0.85</td>\n",
       "    </tr>\n",
       "    <tr>\n",
       "      <th>2</th>\n",
       "      <td>2000-03-03</td>\n",
       "      <td>2000</td>\n",
       "      <td>3</td>\n",
       "      <td>3</td>\n",
       "      <td>Los Angeles</td>\n",
       "      <td>2000-03-03</td>\n",
       "      <td>32.608696</td>\n",
       "      <td>42.0</td>\n",
       "      <td>18</td>\n",
       "      <td>40</td>\n",
       "      <td>...</td>\n",
       "      <td>0</td>\n",
       "      <td>11.0</td>\n",
       "      <td>18.5</td>\n",
       "      <td>6.4</td>\n",
       "      <td>60.3</td>\n",
       "      <td>31.3</td>\n",
       "      <td>32.7</td>\n",
       "      <td>43.0</td>\n",
       "      <td>7.14</td>\n",
       "      <td>0.85</td>\n",
       "    </tr>\n",
       "    <tr>\n",
       "      <th>3</th>\n",
       "      <td>2000-03-04</td>\n",
       "      <td>2000</td>\n",
       "      <td>3</td>\n",
       "      <td>4</td>\n",
       "      <td>Los Angeles</td>\n",
       "      <td>2000-03-04</td>\n",
       "      <td>31.347826</td>\n",
       "      <td>42.0</td>\n",
       "      <td>10</td>\n",
       "      <td>40</td>\n",
       "      <td>...</td>\n",
       "      <td>8</td>\n",
       "      <td>11.0</td>\n",
       "      <td>18.5</td>\n",
       "      <td>6.4</td>\n",
       "      <td>60.3</td>\n",
       "      <td>31.3</td>\n",
       "      <td>32.7</td>\n",
       "      <td>43.0</td>\n",
       "      <td>7.14</td>\n",
       "      <td>0.85</td>\n",
       "    </tr>\n",
       "    <tr>\n",
       "      <th>4</th>\n",
       "      <td>2000-03-05</td>\n",
       "      <td>2000</td>\n",
       "      <td>3</td>\n",
       "      <td>5</td>\n",
       "      <td>Los Angeles</td>\n",
       "      <td>2000-03-05</td>\n",
       "      <td>16.956522</td>\n",
       "      <td>42.0</td>\n",
       "      <td>22</td>\n",
       "      <td>40</td>\n",
       "      <td>...</td>\n",
       "      <td>23</td>\n",
       "      <td>9.0</td>\n",
       "      <td>18.5</td>\n",
       "      <td>6.4</td>\n",
       "      <td>60.3</td>\n",
       "      <td>31.3</td>\n",
       "      <td>32.7</td>\n",
       "      <td>43.0</td>\n",
       "      <td>7.14</td>\n",
       "      <td>0.85</td>\n",
       "    </tr>\n",
       "  </tbody>\n",
       "</table>\n",
       "<p>5 rows × 30 columns</p>\n",
       "</div>"
      ],
      "text/plain": [
       "     Datetime  Year  Month  Day         City  Date Local   NO2 Mean  \\\n",
       "0  2000-03-01  2000      3    1  Los Angeles  2000-03-01  33.521739   \n",
       "1  2000-03-02  2000      3    2  Los Angeles  2000-03-02  44.173913   \n",
       "2  2000-03-03  2000      3    3  Los Angeles  2000-03-03  32.608696   \n",
       "3  2000-03-04  2000      3    4  Los Angeles  2000-03-04  31.347826   \n",
       "4  2000-03-05  2000      3    5  Los Angeles  2000-03-05  16.956522   \n",
       "\n",
       "   NO2 1st Max Value  NO2 1st Max Hour  NO2 AQI      ...       \\\n",
       "0               48.0                22       45      ...        \n",
       "1               55.0                18       52      ...        \n",
       "2               42.0                18       40      ...        \n",
       "3               42.0                10       40      ...        \n",
       "4               42.0                22       40      ...        \n",
       "\n",
       "   CO 1st Max Hour  CO AQI  CO AQI 2000  CO AQI 2015  NO2 AQI 2000  \\\n",
       "0                8    18.0         18.5          6.4          60.3   \n",
       "1                4    25.0         18.5          6.4          60.3   \n",
       "2                0    11.0         18.5          6.4          60.3   \n",
       "3                8    11.0         18.5          6.4          60.3   \n",
       "4               23     9.0         18.5          6.4          60.3   \n",
       "\n",
       "   NO2 AQI 2015  O3 AQI 2000  O3 AQI 2015  SO2 AQI 2000  SO2 AQI 2015  \n",
       "0          31.3         32.7         43.0          7.14          0.85  \n",
       "1          31.3         32.7         43.0          7.14          0.85  \n",
       "2          31.3         32.7         43.0          7.14          0.85  \n",
       "3          31.3         32.7         43.0          7.14          0.85  \n",
       "4          31.3         32.7         43.0          7.14          0.85  \n",
       "\n",
       "[5 rows x 30 columns]"
      ]
     },
     "execution_count": 2,
     "metadata": {},
     "output_type": "execute_result"
    }
   ],
   "source": [
    "#df_cal = df.copy() \n",
    "#df_cal = df_cal.drop(['Unnamed: 0','State Code','County Code','Site Num','NO2 Units','O3 Units','SO2 Units','CO Units', 'State', 'County'],axis=1)\n",
    "#df_cal.head()\n",
    "#df_los = df_cal.loc[df_cal['City']=='Los Angeles']\n",
    "df_los.head()"
   ]
  },
  {
   "cell_type": "markdown",
   "metadata": {},
   "source": [
    "Meanwhile, let's condense this into looking at just Los Angeles. "
   ]
  },
  {
   "cell_type": "code",
   "execution_count": 3,
   "metadata": {
    "ExecuteTime": {
     "end_time": "2019-07-26T01:08:19.642837Z",
     "start_time": "2019-07-26T01:08:19.630843Z"
    }
   },
   "outputs": [
    {
     "data": {
      "text/plain": [
       "(10598, 30)"
      ]
     },
     "execution_count": 3,
     "metadata": {},
     "output_type": "execute_result"
    }
   ],
   "source": [
    "#df_los = df_cal.loc[df_cal['City']=='Los Angeles']\n",
    "df_los.shape"
   ]
  },
  {
   "cell_type": "markdown",
   "metadata": {},
   "source": [
    "We should check for missing values. "
   ]
  },
  {
   "cell_type": "code",
   "execution_count": 4,
   "metadata": {
    "ExecuteTime": {
     "end_time": "2019-07-26T01:08:19.690812Z",
     "start_time": "2019-07-26T01:08:19.654831Z"
    },
    "scrolled": false
   },
   "outputs": [
    {
     "data": {
      "text/plain": [
       "Datetime             0\n",
       "Year                 0\n",
       "Month                0\n",
       "Day                  0\n",
       "City                 0\n",
       "Date Local           0\n",
       "NO2 Mean             0\n",
       "NO2 1st Max Value    0\n",
       "NO2 1st Max Hour     0\n",
       "NO2 AQI              0\n",
       "O3 Mean              0\n",
       "O3 1st Max Value     0\n",
       "O3 1st Max Hour      0\n",
       "O3 AQI               0\n",
       "SO2 Mean             0\n",
       "SO2 1st Max Value    0\n",
       "SO2 1st Max Hour     0\n",
       "SO2 AQI              0\n",
       "CO Mean              0\n",
       "CO 1st Max Value     0\n",
       "CO 1st Max Hour      0\n",
       "CO AQI               0\n",
       "CO AQI 2000          0\n",
       "CO AQI 2015          0\n",
       "NO2 AQI 2000         0\n",
       "NO2 AQI 2015         0\n",
       "O3 AQI 2000          0\n",
       "O3 AQI 2015          0\n",
       "SO2 AQI 2000         0\n",
       "SO2 AQI 2015         0\n",
       "dtype: int64"
      ]
     },
     "execution_count": 4,
     "metadata": {},
     "output_type": "execute_result"
    }
   ],
   "source": [
    "df_los.isna().sum()"
   ]
  },
  {
   "cell_type": "markdown",
   "metadata": {},
   "source": [
    "We have many missing values. Let's eliminate these. "
   ]
  },
  {
   "cell_type": "code",
   "execution_count": 5,
   "metadata": {
    "ExecuteTime": {
     "end_time": "2019-07-26T01:08:19.739783Z",
     "start_time": "2019-07-26T01:08:19.699805Z"
    },
    "scrolled": true
   },
   "outputs": [],
   "source": [
    "df_los = df_los.dropna()"
   ]
  },
  {
   "cell_type": "markdown",
   "metadata": {},
   "source": [
    "Now double check: "
   ]
  },
  {
   "cell_type": "code",
   "execution_count": 6,
   "metadata": {
    "ExecuteTime": {
     "end_time": "2019-07-26T01:08:19.781759Z",
     "start_time": "2019-07-26T01:08:19.745778Z"
    },
    "scrolled": true
   },
   "outputs": [
    {
     "data": {
      "text/plain": [
       "Datetime             0\n",
       "Year                 0\n",
       "Month                0\n",
       "Day                  0\n",
       "City                 0\n",
       "Date Local           0\n",
       "NO2 Mean             0\n",
       "NO2 1st Max Value    0\n",
       "NO2 1st Max Hour     0\n",
       "NO2 AQI              0\n",
       "O3 Mean              0\n",
       "O3 1st Max Value     0\n",
       "O3 1st Max Hour      0\n",
       "O3 AQI               0\n",
       "SO2 Mean             0\n",
       "SO2 1st Max Value    0\n",
       "SO2 1st Max Hour     0\n",
       "SO2 AQI              0\n",
       "CO Mean              0\n",
       "CO 1st Max Value     0\n",
       "CO 1st Max Hour      0\n",
       "CO AQI               0\n",
       "CO AQI 2000          0\n",
       "CO AQI 2015          0\n",
       "NO2 AQI 2000         0\n",
       "NO2 AQI 2015         0\n",
       "O3 AQI 2000          0\n",
       "O3 AQI 2015          0\n",
       "SO2 AQI 2000         0\n",
       "SO2 AQI 2015         0\n",
       "dtype: int64"
      ]
     },
     "execution_count": 6,
     "metadata": {},
     "output_type": "execute_result"
    }
   ],
   "source": [
    "df_los.isna().sum()"
   ]
  },
  {
   "cell_type": "markdown",
   "metadata": {},
   "source": [
    "Let's try to group the data into years. The date local is presumably in datetime fashion, but it may be an object data type rather than a datetime one. "
   ]
  },
  {
   "cell_type": "code",
   "execution_count": 7,
   "metadata": {
    "ExecuteTime": {
     "end_time": "2019-07-26T01:08:19.802746Z",
     "start_time": "2019-07-26T01:08:19.788759Z"
    },
    "scrolled": false
   },
   "outputs": [
    {
     "data": {
      "text/plain": [
       "Datetime              object\n",
       "Year                   int64\n",
       "Month                  int64\n",
       "Day                    int64\n",
       "City                  object\n",
       "Date Local            object\n",
       "NO2 Mean             float64\n",
       "NO2 1st Max Value    float64\n",
       "NO2 1st Max Hour       int64\n",
       "dtype: object"
      ]
     },
     "execution_count": 7,
     "metadata": {},
     "output_type": "execute_result"
    }
   ],
   "source": [
    "df_los.dtypes.head(9)"
   ]
  },
  {
   "cell_type": "markdown",
   "metadata": {},
   "source": [
    "As we can see date local is not in datetime format. We need to convert it. "
   ]
  },
  {
   "cell_type": "code",
   "execution_count": 8,
   "metadata": {
    "ExecuteTime": {
     "end_time": "2019-07-26T01:08:19.836726Z",
     "start_time": "2019-07-26T01:08:19.808741Z"
    }
   },
   "outputs": [],
   "source": [
    "df_los['Datetime'] = pd.to_datetime(df_los['Date Local'], format='%Y-%m-%d')"
   ]
  },
  {
   "cell_type": "code",
   "execution_count": 9,
   "metadata": {
    "ExecuteTime": {
     "end_time": "2019-07-26T01:08:19.845720Z",
     "start_time": "2019-07-26T01:08:19.840724Z"
    }
   },
   "outputs": [],
   "source": [
    "#df_cal = df_cal.drop(['Unnamed: 0','State Code','County Code','Site Num','NO2 Units','O3 Units','SO2 Units','CO Units', 'State', 'County'],axis=1)"
   ]
  },
  {
   "cell_type": "code",
   "execution_count": 10,
   "metadata": {
    "ExecuteTime": {
     "end_time": "2019-07-26T01:08:19.875704Z",
     "start_time": "2019-07-26T01:08:19.848719Z"
    }
   },
   "outputs": [],
   "source": [
    "df_los['Year']= df_los['Datetime'].dt.year\n",
    "df_los['Month']= df_los['Datetime'].dt.month\n",
    "df_los['Day'] = df_los['Datetime'].dt.day\n",
    "\n",
    "# for Tableau uses\n",
    "# df_los['CO AQI 2000'] = 18.5\n",
    "# df_los['NO2 AQI 2000'] = 60.3\n",
    "# df_los['O3 AQI 2000'] = 32.7\n",
    "# df_los['SO2 AQI 2000'] = 7.14\n",
    "# df_los['CO AQI 2015'] = 6.4\n",
    "# df_los['NO2 AQI 2015']= 31.3\n",
    "# df_los['O3 AQI 2015']=43.0\n",
    "# df_los['SO2 AQI 2015']=0.85\n",
    "\n",
    "# df_los = df_los[['Datetime', 'Year','Month', 'Day', 'City','Address', 'Date Local', 'NO2 Mean',\n",
    "#        'NO2 1st Max Value', 'NO2 1st Max Hour', 'NO2 AQI', 'O3 Mean',\n",
    "#        'O3 1st Max Value', 'O3 1st Max Hour', 'O3 AQI', 'SO2 Mean',\n",
    "#        'SO2 1st Max Value', 'SO2 1st Max Hour', 'SO2 AQI', 'CO Mean',\n",
    "#        'CO 1st Max Value', 'CO 1st Max Hour', 'CO AQI', 'CO AQI 2000','CO AQI 2015','NO2 AQI 2000','NO2 AQI 2015','O3 AQI 2000','O3 AQI 2015', 'SO2 AQI 2000','SO2 AQI 2015']]"
   ]
  },
  {
   "cell_type": "markdown",
   "metadata": {},
   "source": [
    "Now let's see one of our new columns, 'year'. "
   ]
  },
  {
   "cell_type": "code",
   "execution_count": 11,
   "metadata": {
    "ExecuteTime": {
     "end_time": "2019-07-26T01:08:19.927674Z",
     "start_time": "2019-07-26T01:08:19.880702Z"
    }
   },
   "outputs": [
    {
     "data": {
      "text/html": [
       "<div>\n",
       "<style scoped>\n",
       "    .dataframe tbody tr th:only-of-type {\n",
       "        vertical-align: middle;\n",
       "    }\n",
       "\n",
       "    .dataframe tbody tr th {\n",
       "        vertical-align: top;\n",
       "    }\n",
       "\n",
       "    .dataframe thead th {\n",
       "        text-align: right;\n",
       "    }\n",
       "</style>\n",
       "<table border=\"1\" class=\"dataframe\">\n",
       "  <thead>\n",
       "    <tr style=\"text-align: right;\">\n",
       "      <th></th>\n",
       "      <th>CO AQI</th>\n",
       "      <th>NO2 AQI</th>\n",
       "      <th>O3 AQI</th>\n",
       "      <th>SO2 AQI</th>\n",
       "    </tr>\n",
       "    <tr>\n",
       "      <th>Year</th>\n",
       "      <th></th>\n",
       "      <th></th>\n",
       "      <th></th>\n",
       "      <th></th>\n",
       "    </tr>\n",
       "  </thead>\n",
       "  <tbody>\n",
       "    <tr>\n",
       "      <th>2000</th>\n",
       "      <td>18.503268</td>\n",
       "      <td>60.385621</td>\n",
       "      <td>32.722222</td>\n",
       "      <td>7.140523</td>\n",
       "    </tr>\n",
       "    <tr>\n",
       "      <th>2001</th>\n",
       "      <td>19.586854</td>\n",
       "      <td>57.236307</td>\n",
       "      <td>31.791862</td>\n",
       "      <td>7.502347</td>\n",
       "    </tr>\n",
       "    <tr>\n",
       "      <th>2002</th>\n",
       "      <td>18.159681</td>\n",
       "      <td>49.872255</td>\n",
       "      <td>33.708583</td>\n",
       "      <td>6.650699</td>\n",
       "    </tr>\n",
       "    <tr>\n",
       "      <th>2003</th>\n",
       "      <td>16.190751</td>\n",
       "      <td>51.745665</td>\n",
       "      <td>34.182081</td>\n",
       "      <td>5.520231</td>\n",
       "    </tr>\n",
       "    <tr>\n",
       "      <th>2004</th>\n",
       "      <td>10.663748</td>\n",
       "      <td>41.173380</td>\n",
       "      <td>41.443082</td>\n",
       "      <td>6.973730</td>\n",
       "    </tr>\n",
       "  </tbody>\n",
       "</table>\n",
       "</div>"
      ],
      "text/plain": [
       "         CO AQI    NO2 AQI     O3 AQI   SO2 AQI\n",
       "Year                                           \n",
       "2000  18.503268  60.385621  32.722222  7.140523\n",
       "2001  19.586854  57.236307  31.791862  7.502347\n",
       "2002  18.159681  49.872255  33.708583  6.650699\n",
       "2003  16.190751  51.745665  34.182081  5.520231\n",
       "2004  10.663748  41.173380  41.443082  6.973730"
      ]
     },
     "execution_count": 11,
     "metadata": {},
     "output_type": "execute_result"
    }
   ],
   "source": [
    "# test to see if 'Year' column was created \n",
    "la_year = df_los.pivot_table(index='Year', values = ['NO2 AQI', 'O3 AQI','SO2 AQI','CO AQI']).sort_values(['Year'])\n",
    "la_year.head()"
   ]
  },
  {
   "cell_type": "markdown",
   "metadata": {},
   "source": [
    "# Visualization"
   ]
  },
  {
   "cell_type": "markdown",
   "metadata": {},
   "source": [
    "Before we start to visualize, it's always good to look at some basic information. "
   ]
  },
  {
   "cell_type": "code",
   "execution_count": 12,
   "metadata": {
    "ExecuteTime": {
     "end_time": "2019-07-26T01:08:19.989641Z",
     "start_time": "2019-07-26T01:08:19.930673Z"
    },
    "scrolled": true
   },
   "outputs": [
    {
     "data": {
      "text/html": [
       "<div>\n",
       "<style scoped>\n",
       "    .dataframe tbody tr th:only-of-type {\n",
       "        vertical-align: middle;\n",
       "    }\n",
       "\n",
       "    .dataframe tbody tr th {\n",
       "        vertical-align: top;\n",
       "    }\n",
       "\n",
       "    .dataframe thead th {\n",
       "        text-align: right;\n",
       "    }\n",
       "</style>\n",
       "<table border=\"1\" class=\"dataframe\">\n",
       "  <thead>\n",
       "    <tr style=\"text-align: right;\">\n",
       "      <th></th>\n",
       "      <th>count</th>\n",
       "      <th>mean</th>\n",
       "      <th>std</th>\n",
       "      <th>min</th>\n",
       "      <th>25%</th>\n",
       "      <th>50%</th>\n",
       "      <th>75%</th>\n",
       "      <th>max</th>\n",
       "    </tr>\n",
       "  </thead>\n",
       "  <tbody>\n",
       "    <tr>\n",
       "      <th>CO AQI</th>\n",
       "      <td>10598.0</td>\n",
       "      <td>9.552840</td>\n",
       "      <td>7.849160</td>\n",
       "      <td>0.0</td>\n",
       "      <td>5.0</td>\n",
       "      <td>8.0</td>\n",
       "      <td>13.0</td>\n",
       "      <td>66.0</td>\n",
       "    </tr>\n",
       "    <tr>\n",
       "      <th>NO2 AQI</th>\n",
       "      <td>10598.0</td>\n",
       "      <td>37.526703</td>\n",
       "      <td>19.043470</td>\n",
       "      <td>0.0</td>\n",
       "      <td>25.0</td>\n",
       "      <td>36.0</td>\n",
       "      <td>47.0</td>\n",
       "      <td>113.0</td>\n",
       "    </tr>\n",
       "    <tr>\n",
       "      <th>SO2 AQI</th>\n",
       "      <td>10598.0</td>\n",
       "      <td>3.736743</td>\n",
       "      <td>4.590276</td>\n",
       "      <td>0.0</td>\n",
       "      <td>0.0</td>\n",
       "      <td>3.0</td>\n",
       "      <td>6.0</td>\n",
       "      <td>100.0</td>\n",
       "    </tr>\n",
       "    <tr>\n",
       "      <th>O3 AQI</th>\n",
       "      <td>10598.0</td>\n",
       "      <td>34.730232</td>\n",
       "      <td>16.119299</td>\n",
       "      <td>1.0</td>\n",
       "      <td>26.0</td>\n",
       "      <td>34.0</td>\n",
       "      <td>42.0</td>\n",
       "      <td>172.0</td>\n",
       "    </tr>\n",
       "  </tbody>\n",
       "</table>\n",
       "</div>"
      ],
      "text/plain": [
       "           count       mean        std  min   25%   50%   75%    max\n",
       "CO AQI   10598.0   9.552840   7.849160  0.0   5.0   8.0  13.0   66.0\n",
       "NO2 AQI  10598.0  37.526703  19.043470  0.0  25.0  36.0  47.0  113.0\n",
       "SO2 AQI  10598.0   3.736743   4.590276  0.0   0.0   3.0   6.0  100.0\n",
       "O3 AQI   10598.0  34.730232  16.119299  1.0  26.0  34.0  42.0  172.0"
      ]
     },
     "execution_count": 12,
     "metadata": {},
     "output_type": "execute_result"
    }
   ],
   "source": [
    "df_los.loc[:,['CO AQI','NO2 AQI','SO2 AQI','O3 AQI']].describe().T"
   ]
  },
  {
   "cell_type": "markdown",
   "metadata": {},
   "source": [
    "I decided to look at AQI values over mean values. Mean values drastically differ between each pollutant; for instance, O3 is a much higher numerical value than the rest. I plan to plot all the pollutants simultaneously on some graphs. Rather than going through normalization, we can simply look at AQI index levels which are essentially giving us the same kind of basic information (i.e is pollution getting better or worse?). "
   ]
  },
  {
   "cell_type": "code",
   "execution_count": 13,
   "metadata": {
    "ExecuteTime": {
     "end_time": "2019-07-26T01:08:22.191380Z",
     "start_time": "2019-07-26T01:08:19.994635Z"
    },
    "scrolled": true
   },
   "outputs": [
    {
     "data": {
      "text/plain": [
       "[Text(0, 0.5, 'Density'),\n",
       " Text(0.5, 0, 'AQI levels'),\n",
       " Text(0.5, 1.0, 'Distribution of AQI from 2000-2015')]"
      ]
     },
     "execution_count": 13,
     "metadata": {},
     "output_type": "execute_result"
    },
    {
     "data": {
      "image/png": "[encoded data removed]",
      "text/plain": [
       "<Figure size 864x576 with 1 Axes>"
      ]
     },
     "metadata": {
      "needs_background": "light"
     },
     "output_type": "display_data"
    }
   ],
   "source": [
    "mpl.rcParams['figure.figsize'] = (12, 8)\n",
    "mpl.rcParams['axes.titlesize'] = 'xx-large'\n",
    "mpl.rcParams['axes.labelsize'] = 'xx-large'\n",
    "fig, ax = plt.subplots()\n",
    "\n",
    "sns.distplot(df_los['SO2 AQI'], label='SO2 AQI')\n",
    "sns.distplot(df_los['CO AQI'], label='CO AQI')\n",
    "sns.distplot(df_los['O3 AQI'], label='O3 AQI')\n",
    "sns.distplot(df_los['NO2 AQI'], label='NO2 AQI')\n",
    "\n",
    "plt.legend()\n",
    "ax.set(xlabel='AQI levels', ylabel='Density', title='Distribution of AQI from 2000-2015')"
   ]
  },
  {
   "cell_type": "markdown",
   "metadata": {},
   "source": [
    "Out of all of these, only SO2 looks like a non-Gaussian distribution from 2000 to 2015. This right-skewed distribution is due to year 2010-2015 dramatically lower than all the other years while maintaining similar values over time. "
   ]
  },
  {
   "cell_type": "code",
   "execution_count": 14,
   "metadata": {
    "ExecuteTime": {
     "end_time": "2019-07-26T01:08:22.964938Z",
     "start_time": "2019-07-26T01:08:22.197378Z"
    },
    "scrolled": true
   },
   "outputs": [
    {
     "data": {
      "text/plain": [
       "<matplotlib.axes._subplots.AxesSubplot at 0x1baf912efd0>"
      ]
     },
     "execution_count": 14,
     "metadata": {},
     "output_type": "execute_result"
    },
    {
     "data": {
      "image/png": "[encoded data removed]",
      "text/plain": [
       "<Figure size 576x360 with 1 Axes>"
      ]
     },
     "metadata": {
      "needs_background": "light"
     },
     "output_type": "display_data"
    }
   ],
   "source": [
    "mpl.rcParams['figure.figsize'] = (8, 5)\n",
    "mpl.rcParams['axes.titlesize'] = 'xx-large'\n",
    "mpl.rcParams['axes.labelsize'] = 'x-large'\n",
    "sns.violinplot(x=\"Year\", y=\"CO AQI\",data=df_los)\n"
   ]
  },
  {
   "cell_type": "markdown",
   "metadata": {},
   "source": [
    "Looking at CO AQI, we can see that CO outliers have drastically been curbed down. This suggests that the government has successfully targetd areas with drastic levels of CO pollution. Initially CO violins are quite skinny. This indicates many areas (addresses) had fairly low CO levels but there were many outlier areas to offset this. By 2015, the vast majority of addresses are at similar levels indicated by the violin width. "
   ]
  },
  {
   "cell_type": "code",
   "execution_count": 15,
   "metadata": {
    "ExecuteTime": {
     "end_time": "2019-07-26T01:08:23.836456Z",
     "start_time": "2019-07-26T01:08:22.967935Z"
    }
   },
   "outputs": [
    {
     "data": {
      "image/png": "[encoded data removed]",
      "text/plain": [
       "<Figure size 576x360 with 1 Axes>"
      ]
     },
     "metadata": {
      "needs_background": "light"
     },
     "output_type": "display_data"
    }
   ],
   "source": [
    "with plt.style.context('bmh'):\n",
    "    plt.rcParams['font.serif'] = 'Ubuntu'\n",
    "    plt.rcParams['font.monospace'] = 'Ubuntu Mono'\n",
    "    plt.rcParams['font.size'] = 10\n",
    "    plt.rcParams['axes.labelsize'] = 10\n",
    "    plt.rcParams['axes.labelweight'] = 'bold'\n",
    "    plt.rcParams['xtick.labelsize'] = 8\n",
    "    plt.rcParams['ytick.labelsize'] = 8\n",
    "    plt.rcParams['legend.fontsize'] = 10\n",
    "    plt.rcParams['figure.titlesize'] = 12\n",
    "    sns.violinplot(x=\"Year\", y=\"CO AQI\",data=df_los)\n"
   ]
  },
  {
   "cell_type": "code",
   "execution_count": 16,
   "metadata": {
    "ExecuteTime": {
     "end_time": "2019-07-26T01:08:24.556027Z",
     "start_time": "2019-07-26T01:08:23.839437Z"
    },
    "scrolled": true
   },
   "outputs": [
    {
     "data": {
      "image/png": "[encoded data removed]",
      "text/plain": [
       "<Figure size 576x360 with 1 Axes>"
      ]
     },
     "metadata": {},
     "output_type": "display_data"
    }
   ],
   "source": [
    "with plt.style.context('Solarize_Light2'):\n",
    "\n",
    "    plt.rcParams['font.family'] = 'serif'\n",
    "    plt.rcParams['font.serif'] = 'Ubuntu'\n",
    "    plt.rcParams['font.monospace'] = 'Ubuntu Mono'\n",
    "    plt.rcParams['font.size'] = 10\n",
    "    plt.rcParams['axes.labelsize'] = 10\n",
    "    plt.rcParams['axes.labelweight'] = 'bold'\n",
    "    plt.rcParams['xtick.labelsize'] = 8\n",
    "    plt.rcParams['ytick.labelsize'] = 8\n",
    "    plt.rcParams['legend.fontsize'] = 10\n",
    "    plt.rcParams['figure.titlesize'] = 12\n",
    "\n",
    "    sns.violinplot(x='Year',y='NO2 AQI', data=df_los)\n",
    "\n"
   ]
  },
  {
   "cell_type": "code",
   "execution_count": 17,
   "metadata": {
    "ExecuteTime": {
     "end_time": "2019-07-26T01:08:25.245634Z",
     "start_time": "2019-07-26T01:08:24.559027Z"
    },
    "scrolled": true
   },
   "outputs": [
    {
     "data": {
      "image/png": "[encoded data removed]",
      "text/plain": [
       "<Figure size 864x360 with 1 Axes>"
      ]
     },
     "metadata": {},
     "output_type": "display_data"
    }
   ],
   "source": [
    "with plt.style.context('ggplot'):\n",
    "\n",
    "    mpl.rcParams['figure.figsize'] = (12, 5)\n",
    "    mpl.rcParams['axes.titlesize'] = 'xx-large'\n",
    "    mpl.rcParams['axes.labelsize'] = 'x-large'\n",
    "\n",
    "    sns.violinplot(x='Year',y='SO2 AQI', data=df_los)\n"
   ]
  },
  {
   "cell_type": "markdown",
   "metadata": {},
   "source": [
    "Here the drastic shift in outlier values from 2000 is striking even though overall decrease didn't start until 2005. We can look at a time series data to confirm this:  "
   ]
  },
  {
   "cell_type": "code",
   "execution_count": 18,
   "metadata": {
    "ExecuteTime": {
     "end_time": "2019-07-26T01:08:26.161127Z",
     "start_time": "2019-07-26T01:08:25.259624Z"
    },
    "scrolled": true
   },
   "outputs": [
    {
     "data": {
      "text/plain": [
       "<matplotlib.axes._subplots.AxesSubplot at 0x1baf9518dd8>"
      ]
     },
     "execution_count": 18,
     "metadata": {},
     "output_type": "execute_result"
    },
    {
     "data": {
      "image/png": "[encoded data removed]",
      "text/plain": [
       "<Figure size 576x360 with 1 Axes>"
      ]
     },
     "metadata": {
      "needs_background": "light"
     },
     "output_type": "display_data"
    }
   ],
   "source": [
    "mpl.rcParams['figure.figsize'] = (8, 5)\n",
    "mpl.rcParams['axes.titlesize'] = 'xx-large'\n",
    "mpl.rcParams['axes.labelsize'] = 'x-large'\n",
    "sns.violinplot(x='Year',y='O3 AQI', data=df_los)"
   ]
  },
  {
   "cell_type": "markdown",
   "metadata": {},
   "source": [
    "While O3 outliers have decreased in general if one excludes the peak at 2014, but the overall AQI level has actually increased slightly. In fact, the data seems to suggest after the initial dip between 2009 and 2011, it seems to be getting worse. Perhaps a time series graph can help us visalize this better. "
   ]
  },
  {
   "cell_type": "markdown",
   "metadata": {},
   "source": [
    "We'll group the data based on yearly and monthly averages for our plotly time series. "
   ]
  },
  {
   "cell_type": "code",
   "execution_count": 19,
   "metadata": {
    "ExecuteTime": {
     "end_time": "2019-07-26T01:08:26.225073Z",
     "start_time": "2019-07-26T01:08:26.165106Z"
    }
   },
   "outputs": [],
   "source": [
    "la_year = df_los.pivot_table(\n",
    "    index='Year')\n",
    "la_year.head()\n",
    "\n",
    "la_month = df_los.pivot_table(\n",
    "    index='Month')"
   ]
  },
  {
   "cell_type": "code",
   "execution_count": 20,
   "metadata": {
    "ExecuteTime": {
     "end_time": "2019-07-26T01:08:28.040037Z",
     "start_time": "2019-07-26T01:08:26.227070Z"
    },
    "code_folding": [
     3,
     9,
     15,
     21
    ],
    "scrolled": true
   },
   "outputs": [
    {
     "data": {
      "application/vnd.plotly.v1+json": {
       "config": {
        "linkText": "Export to plot.ly",
        "plotlyServerURL": "https://plot.ly",
        "showLink": false
       },
       "data": [
        {
         "mode": "lines+markers",
         "name": "O3",
         "type": "scatter",
         "uid": "0974558d-e45e-423a-9f5c-bc23982594a5",
         "x": [
          2000,
          2001,
          2002,
          2003,
          2004,
          2005,
          2006,
          2007,
          2008,
          2009,
          2010,
          2011,
          2012,
          2013,
          2014,
          2015
         ],
         "y": [
          32.72222222222222,
          31.79186228482003,
          33.70858283433134,
          34.18208092485549,
          41.443082311733804,
          33.472954230235786,
          32.14064697609001,
          33.762390670553934,
          34.15942028985507,
          32.03267045454545,
          30.98701298701299,
          30.573082489146167,
          30.353629976580795,
          34.00323974082073,
          39.98990825688073,
          42.92299107142857
         ]
        },
        {
         "mode": "lines+markers",
         "name": "NO2",
         "type": "scatter",
         "uid": "ea17aaaf-997b-4abf-98df-e819027adcfb",
         "x": [
          2000,
          2001,
          2002,
          2003,
          2004,
          2005,
          2006,
          2007,
          2008,
          2009,
          2010,
          2011,
          2012,
          2013,
          2014,
          2015
         ],
         "y": [
          60.38562091503268,
          57.23630672926448,
          49.87225548902195,
          51.74566473988439,
          41.17338003502627,
          35.72676837725381,
          37.37412095639944,
          36.43586005830904,
          35.32753623188406,
          34.26136363636363,
          32.1948051948052,
          33.01447178002894,
          33.54332552693209,
          30.794816414686824,
          31.58348623853211,
          31.299107142857142
         ]
        },
        {
         "mode": "lines+markers",
         "name": "CO",
         "type": "scatter",
         "uid": "b0d590e8-49c9-42ff-85bb-a46d1a1df9e3",
         "x": [
          2000,
          2001,
          2002,
          2003,
          2004,
          2005,
          2006,
          2007,
          2008,
          2009,
          2010,
          2011,
          2012,
          2013,
          2014,
          2015
         ],
         "y": [
          18.50326797385621,
          19.586854460093896,
          18.159680638722556,
          16.190751445086704,
          10.663747810858144,
          8.219140083217754,
          7.566807313642757,
          7.113702623906706,
          6.769565217391304,
          8.603693181818182,
          7.32034632034632,
          7.199710564399421,
          8.981264637002342,
          7.674946004319654,
          7.863302752293578,
          6.472098214285714
         ]
        },
        {
         "mode": "lines+markers",
         "name": "SO2",
         "type": "scatter",
         "uid": "42362dec-05f3-4096-a6a8-ff87e71eac23",
         "x": [
          2000,
          2001,
          2002,
          2003,
          2004,
          2005,
          2006,
          2007,
          2008,
          2009,
          2010,
          2011,
          2012,
          2013,
          2014,
          2015
         ],
         "y": [
          7.140522875816994,
          7.502347417840376,
          6.650698602794411,
          5.520231213872832,
          6.973730297723293,
          8.119278779472955,
          6.053445850914206,
          5.074344023323615,
          3.453623188405797,
          3.325284090909091,
          1.7041847041847042,
          1.2677279305354558,
          1.044496487119438,
          0.8542116630669546,
          0.9,
          0.8493303571428571
         ]
        }
       ],
       "layout": {
        "title": {
         "text": "Time Series of Pollutants"
        }
       }
      },
      "text/html": [
       "<div id=\"159e0a5f-1caf-4c5e-a278-47ce6b1add9a\" style=\"height: 525px; width: 100%;\" class=\"plotly-graph-div\"></div><script type=\"text/javascript\">require([\"plotly\"], function(Plotly) { window.PLOTLYENV=window.PLOTLYENV || {};window.PLOTLYENV.BASE_URL=\"https://plot.ly\";\n",
       "if (document.getElementById(\"159e0a5f-1caf-4c5e-a278-47ce6b1add9a\")) {\n",
       "    Plotly.newPlot(\"159e0a5f-1caf-4c5e-a278-47ce6b1add9a\", [{\"mode\": \"lines+markers\", \"name\": \"O3\", \"x\": [2000, 2001, 2002, 2003, 2004, 2005, 2006, 2007, 2008, 2009, 2010, 2011, 2012, 2013, 2014, 2015], \"y\": [32.72222222222222, 31.79186228482003, 33.70858283433134, 34.18208092485549, 41.443082311733804, 33.472954230235786, 32.14064697609001, 33.762390670553934, 34.15942028985507, 32.03267045454545, 30.98701298701299, 30.573082489146167, 30.353629976580795, 34.00323974082073, 39.98990825688073, 42.92299107142857], \"type\": \"scatter\", \"uid\": \"0974558d-e45e-423a-9f5c-bc23982594a5\"}, {\"mode\": \"lines+markers\", \"name\": \"NO2\", \"x\": [2000, 2001, 2002, 2003, 2004, 2005, 2006, 2007, 2008, 2009, 2010, 2011, 2012, 2013, 2014, 2015], \"y\": [60.38562091503268, 57.23630672926448, 49.87225548902195, 51.74566473988439, 41.17338003502627, 35.72676837725381, 37.37412095639944, 36.43586005830904, 35.32753623188406, 34.26136363636363, 32.1948051948052, 33.01447178002894, 33.54332552693209, 30.794816414686824, 31.58348623853211, 31.299107142857142], \"type\": \"scatter\", \"uid\": \"ea17aaaf-997b-4abf-98df-e819027adcfb\"}, {\"mode\": \"lines+markers\", \"name\": \"CO\", \"x\": [2000, 2001, 2002, 2003, 2004, 2005, 2006, 2007, 2008, 2009, 2010, 2011, 2012, 2013, 2014, 2015], \"y\": [18.50326797385621, 19.586854460093896, 18.159680638722556, 16.190751445086704, 10.663747810858144, 8.219140083217754, 7.566807313642757, 7.113702623906706, 6.769565217391304, 8.603693181818182, 7.32034632034632, 7.199710564399421, 8.981264637002342, 7.674946004319654, 7.863302752293578, 6.472098214285714], \"type\": \"scatter\", \"uid\": \"b0d590e8-49c9-42ff-85bb-a46d1a1df9e3\"}, {\"mode\": \"lines+markers\", \"name\": \"SO2\", \"x\": [2000, 2001, 2002, 2003, 2004, 2005, 2006, 2007, 2008, 2009, 2010, 2011, 2012, 2013, 2014, 2015], \"y\": [7.140522875816994, 7.502347417840376, 6.650698602794411, 5.520231213872832, 6.973730297723293, 8.119278779472955, 6.053445850914206, 5.074344023323615, 3.453623188405797, 3.325284090909091, 1.7041847041847042, 1.2677279305354558, 1.044496487119438, 0.8542116630669546, 0.9, 0.8493303571428571], \"type\": \"scatter\", \"uid\": \"42362dec-05f3-4096-a6a8-ff87e71eac23\"}], {\"title\": {\"text\": \"Time Series of Pollutants\"}}, {\"showLink\": false, \"linkText\": \"Export to plot.ly\", \"plotlyServerURL\": \"https://plot.ly\"}); \n",
       "}\n",
       "});</script><script type=\"text/javascript\">window.addEventListener(\"resize\", function(){if (document.getElementById(\"159e0a5f-1caf-4c5e-a278-47ce6b1add9a\")) {window._Plotly.Plots.resize(document.getElementById(\"159e0a5f-1caf-4c5e-a278-47ce6b1add9a\"));};})</script>"
      ],
      "text/vnd.plotly.v1+html": [
       "<div id=\"159e0a5f-1caf-4c5e-a278-47ce6b1add9a\" style=\"height: 525px; width: 100%;\" class=\"plotly-graph-div\"></div><script type=\"text/javascript\">require([\"plotly\"], function(Plotly) { window.PLOTLYENV=window.PLOTLYENV || {};window.PLOTLYENV.BASE_URL=\"https://plot.ly\";\n",
       "if (document.getElementById(\"159e0a5f-1caf-4c5e-a278-47ce6b1add9a\")) {\n",
       "    Plotly.newPlot(\"159e0a5f-1caf-4c5e-a278-47ce6b1add9a\", [{\"mode\": \"lines+markers\", \"name\": \"O3\", \"x\": [2000, 2001, 2002, 2003, 2004, 2005, 2006, 2007, 2008, 2009, 2010, 2011, 2012, 2013, 2014, 2015], \"y\": [32.72222222222222, 31.79186228482003, 33.70858283433134, 34.18208092485549, 41.443082311733804, 33.472954230235786, 32.14064697609001, 33.762390670553934, 34.15942028985507, 32.03267045454545, 30.98701298701299, 30.573082489146167, 30.353629976580795, 34.00323974082073, 39.98990825688073, 42.92299107142857], \"type\": \"scatter\", \"uid\": \"0974558d-e45e-423a-9f5c-bc23982594a5\"}, {\"mode\": \"lines+markers\", \"name\": \"NO2\", \"x\": [2000, 2001, 2002, 2003, 2004, 2005, 2006, 2007, 2008, 2009, 2010, 2011, 2012, 2013, 2014, 2015], \"y\": [60.38562091503268, 57.23630672926448, 49.87225548902195, 51.74566473988439, 41.17338003502627, 35.72676837725381, 37.37412095639944, 36.43586005830904, 35.32753623188406, 34.26136363636363, 32.1948051948052, 33.01447178002894, 33.54332552693209, 30.794816414686824, 31.58348623853211, 31.299107142857142], \"type\": \"scatter\", \"uid\": \"ea17aaaf-997b-4abf-98df-e819027adcfb\"}, {\"mode\": \"lines+markers\", \"name\": \"CO\", \"x\": [2000, 2001, 2002, 2003, 2004, 2005, 2006, 2007, 2008, 2009, 2010, 2011, 2012, 2013, 2014, 2015], \"y\": [18.50326797385621, 19.586854460093896, 18.159680638722556, 16.190751445086704, 10.663747810858144, 8.219140083217754, 7.566807313642757, 7.113702623906706, 6.769565217391304, 8.603693181818182, 7.32034632034632, 7.199710564399421, 8.981264637002342, 7.674946004319654, 7.863302752293578, 6.472098214285714], \"type\": \"scatter\", \"uid\": \"b0d590e8-49c9-42ff-85bb-a46d1a1df9e3\"}, {\"mode\": \"lines+markers\", \"name\": \"SO2\", \"x\": [2000, 2001, 2002, 2003, 2004, 2005, 2006, 2007, 2008, 2009, 2010, 2011, 2012, 2013, 2014, 2015], \"y\": [7.140522875816994, 7.502347417840376, 6.650698602794411, 5.520231213872832, 6.973730297723293, 8.119278779472955, 6.053445850914206, 5.074344023323615, 3.453623188405797, 3.325284090909091, 1.7041847041847042, 1.2677279305354558, 1.044496487119438, 0.8542116630669546, 0.9, 0.8493303571428571], \"type\": \"scatter\", \"uid\": \"42362dec-05f3-4096-a6a8-ff87e71eac23\"}], {\"title\": {\"text\": \"Time Series of Pollutants\"}}, {\"showLink\": false, \"linkText\": \"Export to plot.ly\", \"plotlyServerURL\": \"https://plot.ly\"}); \n",
       "}\n",
       "});</script><script type=\"text/javascript\">window.addEventListener(\"resize\", function(){if (document.getElementById(\"159e0a5f-1caf-4c5e-a278-47ce6b1add9a\")) {window._Plotly.Plots.resize(document.getElementById(\"159e0a5f-1caf-4c5e-a278-47ce6b1add9a\"));};})</script>"
      ]
     },
     "metadata": {},
     "output_type": "display_data"
    }
   ],
   "source": [
    "import plotly\n",
    "import plotly.graph_objs as go\n",
    "\n",
    "trace0 = go.Scatter(\n",
    "    x = la_year.index,\n",
    "    y=la_year['O3 AQI'],\n",
    "    mode = 'lines+markers',\n",
    "    name = \"O3\")\n",
    "\n",
    "trace1 = go.Scatter(\n",
    "     x = la_year.index,\n",
    "    y= la_year['NO2 AQI'],\n",
    "    mode = 'lines+markers',\n",
    "    name = 'NO2')\n",
    "\n",
    "trace2 = go.Scatter(\n",
    "     x = la_year.index,\n",
    "    y= la_year['CO AQI'],\n",
    "    mode = 'lines+markers',\n",
    "    name = 'CO')\n",
    "\n",
    "trace3 = go.Scatter(\n",
    "    x = la_year.index, \n",
    "    y = la_year['SO2 AQI'],\n",
    "    mode = 'lines+markers', \n",
    "    name = 'SO2'\n",
    ")\n",
    "\n",
    "data = [trace0, trace1, trace2, trace3]\n",
    "layout = go.Layout(title = 'Time Series of Pollutants')\n",
    "fig = go.Figure(data=data, layout=layout)\n",
    "iplot(fig)"
   ]
  },
  {
   "cell_type": "markdown",
   "metadata": {},
   "source": [
    "Notice how out of all the pollutants, it is only O3 that has gradually increased over time from 32.7 AQI in 2000 to a peak of 43 AQI in 2015.  But fortunately, we can conclude that CO, NO2, and SO2 are declining gradually over time. \n",
    "\n",
    "NO2 goes through the largest positive change, dropping from 60 AQI to a steady low 30s. SO2 and CO have gone through encouraging moderate improvements in AQI."
   ]
  },
  {
   "cell_type": "markdown",
   "metadata": {},
   "source": [
    "Perhaps there is a seasonal pattern to pollution levels as well. We can look at the la_month dataframe time series. "
   ]
  },
  {
   "cell_type": "code",
   "execution_count": 21,
   "metadata": {
    "ExecuteTime": {
     "end_time": "2019-07-26T01:08:28.451798Z",
     "start_time": "2019-07-26T01:08:28.045031Z"
    },
    "code_folding": [
     3,
     9,
     15,
     21
    ],
    "scrolled": false
   },
   "outputs": [
    {
     "data": {
      "application/vnd.plotly.v1+json": {
       "config": {
        "linkText": "Export to plot.ly",
        "plotlyServerURL": "https://plot.ly",
        "showLink": false
       },
       "data": [
        {
         "mode": "lines+markers",
         "name": "O3",
         "type": "scatter",
         "uid": "3e63f7ed-1998-46d9-b40c-4b4850b01f94",
         "x": [
          1,
          2,
          3,
          4,
          5,
          6,
          7,
          8,
          9,
          10,
          11,
          12
         ],
         "y": [
          20.269714285714286,
          27.235910878112712,
          36.02085620197585,
          40.93638392857143,
          44.55345211581292,
          42.11085714285714,
          38.055363321799305,
          42.60409556313993,
          43.082207207207205,
          37.09194097616345,
          25.58286358511838,
          19.56441717791411
         ]
        },
        {
         "mode": "lines+markers",
         "name": "NO2",
         "type": "scatter",
         "uid": "d25a7233-87cf-4b2c-ba43-b6fd7d30649e",
         "x": [
          1,
          2,
          3,
          4,
          5,
          6,
          7,
          8,
          9,
          10,
          11,
          12
         ],
         "y": [
          45.34171428571429,
          41.996068152031455,
          40.0801317233809,
          35.4921875,
          31.329621380846326,
          27.490285714285715,
          27.808535178777394,
          31.003412969283275,
          38.05968468468468,
          43.14188422247446,
          45.886133032694474,
          42.557259713701434
         ]
        },
        {
         "mode": "lines+markers",
         "name": "CO",
         "type": "scatter",
         "uid": "fa5a00b2-0ef5-46d6-8cff-3c662f2a9cd2",
         "x": [
          1,
          2,
          3,
          4,
          5,
          6,
          7,
          8,
          9,
          10,
          11,
          12
         ],
         "y": [
          15.001142857142858,
          12.251638269986893,
          9.355653128430296,
          7.131696428571429,
          6.305122494432071,
          5.442285714285714,
          5.4809688581314875,
          6.21160409556314,
          7.668918918918919,
          10.441543700340523,
          13.851183765501691,
          15.258691206543967
         ]
        },
        {
         "mode": "lines+markers",
         "name": "SO2",
         "type": "scatter",
         "uid": "0ea59acb-3323-4a56-8f2f-a133113f908c",
         "x": [
          1,
          2,
          3,
          4,
          5,
          6,
          7,
          8,
          9,
          10,
          11,
          12
         ],
         "y": [
          4.476571428571429,
          3.888597640891219,
          3.5653128430296377,
          3.166294642857143,
          3.173719376391982,
          2.884571428571429,
          3.8638985005767013,
          3.532423208191126,
          3.793918918918919,
          3.9160045402951194,
          4.576099210822999,
          4.014314928425358
         ]
        }
       ],
       "layout": {
        "title": {
         "text": "Time Series of Pollutants"
        }
       }
      },
      "text/html": [
       "<div id=\"fae645e8-c1e3-4dde-8f36-e475e25fe178\" style=\"height: 525px; width: 100%;\" class=\"plotly-graph-div\"></div><script type=\"text/javascript\">require([\"plotly\"], function(Plotly) { window.PLOTLYENV=window.PLOTLYENV || {};window.PLOTLYENV.BASE_URL=\"https://plot.ly\";\n",
       "if (document.getElementById(\"fae645e8-c1e3-4dde-8f36-e475e25fe178\")) {\n",
       "    Plotly.newPlot(\"fae645e8-c1e3-4dde-8f36-e475e25fe178\", [{\"mode\": \"lines+markers\", \"name\": \"O3\", \"x\": [1, 2, 3, 4, 5, 6, 7, 8, 9, 10, 11, 12], \"y\": [20.269714285714286, 27.235910878112712, 36.02085620197585, 40.93638392857143, 44.55345211581292, 42.11085714285714, 38.055363321799305, 42.60409556313993, 43.082207207207205, 37.09194097616345, 25.58286358511838, 19.56441717791411], \"type\": \"scatter\", \"uid\": \"3e63f7ed-1998-46d9-b40c-4b4850b01f94\"}, {\"mode\": \"lines+markers\", \"name\": \"NO2\", \"x\": [1, 2, 3, 4, 5, 6, 7, 8, 9, 10, 11, 12], \"y\": [45.34171428571429, 41.996068152031455, 40.0801317233809, 35.4921875, 31.329621380846326, 27.490285714285715, 27.808535178777394, 31.003412969283275, 38.05968468468468, 43.14188422247446, 45.886133032694474, 42.557259713701434], \"type\": \"scatter\", \"uid\": \"d25a7233-87cf-4b2c-ba43-b6fd7d30649e\"}, {\"mode\": \"lines+markers\", \"name\": \"CO\", \"x\": [1, 2, 3, 4, 5, 6, 7, 8, 9, 10, 11, 12], \"y\": [15.001142857142858, 12.251638269986893, 9.355653128430296, 7.131696428571429, 6.305122494432071, 5.442285714285714, 5.4809688581314875, 6.21160409556314, 7.668918918918919, 10.441543700340523, 13.851183765501691, 15.258691206543967], \"type\": \"scatter\", \"uid\": \"fa5a00b2-0ef5-46d6-8cff-3c662f2a9cd2\"}, {\"mode\": \"lines+markers\", \"name\": \"SO2\", \"x\": [1, 2, 3, 4, 5, 6, 7, 8, 9, 10, 11, 12], \"y\": [4.476571428571429, 3.888597640891219, 3.5653128430296377, 3.166294642857143, 3.173719376391982, 2.884571428571429, 3.8638985005767013, 3.532423208191126, 3.793918918918919, 3.9160045402951194, 4.576099210822999, 4.014314928425358], \"type\": \"scatter\", \"uid\": \"0ea59acb-3323-4a56-8f2f-a133113f908c\"}], {\"title\": {\"text\": \"Time Series of Pollutants\"}}, {\"showLink\": false, \"linkText\": \"Export to plot.ly\", \"plotlyServerURL\": \"https://plot.ly\"}); \n",
       "}\n",
       "});</script><script type=\"text/javascript\">window.addEventListener(\"resize\", function(){if (document.getElementById(\"fae645e8-c1e3-4dde-8f36-e475e25fe178\")) {window._Plotly.Plots.resize(document.getElementById(\"fae645e8-c1e3-4dde-8f36-e475e25fe178\"));};})</script>"
      ],
      "text/vnd.plotly.v1+html": [
       "<div id=\"fae645e8-c1e3-4dde-8f36-e475e25fe178\" style=\"height: 525px; width: 100%;\" class=\"plotly-graph-div\"></div><script type=\"text/javascript\">require([\"plotly\"], function(Plotly) { window.PLOTLYENV=window.PLOTLYENV || {};window.PLOTLYENV.BASE_URL=\"https://plot.ly\";\n",
       "if (document.getElementById(\"fae645e8-c1e3-4dde-8f36-e475e25fe178\")) {\n",
       "    Plotly.newPlot(\"fae645e8-c1e3-4dde-8f36-e475e25fe178\", [{\"mode\": \"lines+markers\", \"name\": \"O3\", \"x\": [1, 2, 3, 4, 5, 6, 7, 8, 9, 10, 11, 12], \"y\": [20.269714285714286, 27.235910878112712, 36.02085620197585, 40.93638392857143, 44.55345211581292, 42.11085714285714, 38.055363321799305, 42.60409556313993, 43.082207207207205, 37.09194097616345, 25.58286358511838, 19.56441717791411], \"type\": \"scatter\", \"uid\": \"3e63f7ed-1998-46d9-b40c-4b4850b01f94\"}, {\"mode\": \"lines+markers\", \"name\": \"NO2\", \"x\": [1, 2, 3, 4, 5, 6, 7, 8, 9, 10, 11, 12], \"y\": [45.34171428571429, 41.996068152031455, 40.0801317233809, 35.4921875, 31.329621380846326, 27.490285714285715, 27.808535178777394, 31.003412969283275, 38.05968468468468, 43.14188422247446, 45.886133032694474, 42.557259713701434], \"type\": \"scatter\", \"uid\": \"d25a7233-87cf-4b2c-ba43-b6fd7d30649e\"}, {\"mode\": \"lines+markers\", \"name\": \"CO\", \"x\": [1, 2, 3, 4, 5, 6, 7, 8, 9, 10, 11, 12], \"y\": [15.001142857142858, 12.251638269986893, 9.355653128430296, 7.131696428571429, 6.305122494432071, 5.442285714285714, 5.4809688581314875, 6.21160409556314, 7.668918918918919, 10.441543700340523, 13.851183765501691, 15.258691206543967], \"type\": \"scatter\", \"uid\": \"fa5a00b2-0ef5-46d6-8cff-3c662f2a9cd2\"}, {\"mode\": \"lines+markers\", \"name\": \"SO2\", \"x\": [1, 2, 3, 4, 5, 6, 7, 8, 9, 10, 11, 12], \"y\": [4.476571428571429, 3.888597640891219, 3.5653128430296377, 3.166294642857143, 3.173719376391982, 2.884571428571429, 3.8638985005767013, 3.532423208191126, 3.793918918918919, 3.9160045402951194, 4.576099210822999, 4.014314928425358], \"type\": \"scatter\", \"uid\": \"0ea59acb-3323-4a56-8f2f-a133113f908c\"}], {\"title\": {\"text\": \"Time Series of Pollutants\"}}, {\"showLink\": false, \"linkText\": \"Export to plot.ly\", \"plotlyServerURL\": \"https://plot.ly\"}); \n",
       "}\n",
       "});</script><script type=\"text/javascript\">window.addEventListener(\"resize\", function(){if (document.getElementById(\"fae645e8-c1e3-4dde-8f36-e475e25fe178\")) {window._Plotly.Plots.resize(document.getElementById(\"fae645e8-c1e3-4dde-8f36-e475e25fe178\"));};})</script>"
      ]
     },
     "metadata": {},
     "output_type": "display_data"
    }
   ],
   "source": [
    "import plotly\n",
    "import plotly.graph_objs as go\n",
    "\n",
    "trace0 = go.Scatter(\n",
    "    x = la_month.index,\n",
    "    y=la_month['O3 AQI'],\n",
    "    mode = 'lines+markers',\n",
    "    name = \"O3\")\n",
    "\n",
    "trace1 = go.Scatter(\n",
    "     x = la_month.index,\n",
    "    y= la_month['NO2 AQI'],\n",
    "    mode = 'lines+markers',\n",
    "    name = 'NO2')\n",
    "\n",
    "trace2 = go.Scatter(\n",
    "     x = la_month.index,\n",
    "    y= la_month['CO AQI'],\n",
    "    mode = 'lines+markers',\n",
    "    name = 'CO')\n",
    "\n",
    "trace3 = go.Scatter(\n",
    "    x = la_month.index, \n",
    "    y = la_month['SO2 AQI'],\n",
    "    mode = 'lines+markers', \n",
    "    name = 'SO2'\n",
    ")\n",
    "\n",
    "data = [trace0, trace1, trace2, trace3]\n",
    "layout = go.Layout(title = 'Time Series of Pollutants')\n",
    "fig = go.Figure(data=data, layout=layout)\n",
    "iplot(fig)"
   ]
  },
  {
   "cell_type": "markdown",
   "metadata": {},
   "source": [
    "NO2 decreases in spring and summer while increasing towards fall and reaching peak during the winter. O3 is almost the opposite, except both seems to hit a dip during May to July. \n",
    "\n",
    "It's quite strange to see that NO2 and O3 have an inverse pattern in most months. I attempted to learn more about this here: https://www.sciencedirect.com/science/article/pii/S130910421530297X. \n",
    "\n",
    "The article states: \"Due to the chemical coupling of surface O3 and NOX, the response to NOX emissions reductions is remarkably not linear and any resultant reduction in the level of nitrogen dioxide (NO2) is invariably accompanied by an increase in the atmospheric concentration of O3 (Mazzeo et al., 2005).\"\n",
    "\n",
    "O3 and NO2 depend on each other to be created. For instance: \n",
    "\n",
    "NO2 + O2 (+ solar UV-light + heat) --> NO + O3 \n",
    "\n",
    "So you need nitrogen dioxide to form ozone, but it's also true the other way around: \n",
    "\n",
    "NO + O3 --> NO2 + O2\n",
    "\n",
    "This is an equilibrium reactionn so O3 levels will go down when it's depleted to create NO2. Usually NO is produced abundantly in busy urban areas, and NO picks up O3 in a reaction to stabilize itself to NO2. Consequently, O3 is usually lower in LA compared to a city like Irvine, a suburban city. \n",
    "\n",
    "http://www.irceline.be/en/documentation/faq/why-are-ozone-concentrations-higher-in-rural-areas-than-in-cities\n",
    "\n",
    "However, it will not be a complete inverse pattern because of meterological parameters (ambient temperature, wind velocity, solar radiation, and relative humidity) that have more impact on Ozone AQIs than actual emissions. "
   ]
  },
  {
   "cell_type": "markdown",
   "metadata": {},
   "source": [
    "**Conclusion** \n",
    "\n",
    "With the exception of O3, all the major pollutants according to AQI - CO, SO2, and NO2 - have declined in Los Angeles substantially since 2000. It's not clear whether this trend has continued till 2019, the current year, as of me typing this.  "
   ]
  },
  {
   "cell_type": "markdown",
   "metadata": {},
   "source": [
    "# Tableau Visualization"
   ]
  },
  {
   "cell_type": "markdown",
   "metadata": {},
   "source": [
    "For Tableau, I want to define a columns that contain the year 2000 and 2015. This step is optional. \n",
    "\n",
    "You can see the finished visualization here: https://public.tableau.com/profile/zendry.lee#!/vizhome/LosAngelesPollution/Dashboard1"
   ]
  },
  {
   "cell_type": "markdown",
   "metadata": {},
   "source": [
    "We can add columns by manually inputting a list. First we make three new columns. "
   ]
  },
  {
   "cell_type": "code",
   "execution_count": 22,
   "metadata": {
    "ExecuteTime": {
     "end_time": "2019-07-26T01:08:28.463791Z",
     "start_time": "2019-07-26T01:08:28.455796Z"
    }
   },
   "outputs": [],
   "source": [
    "# df_los.to_csv('pollution_la.csv', encoding='utf-8', index=False)"
   ]
  }
 ],
 "metadata": {
  "kernelspec": {
   "display_name": "Python 3",
   "language": "python",
   "name": "python3"
  },
  "language_info": {
   "codemirror_mode": {
    "name": "ipython",
    "version": 3
   },
   "file_extension": ".py",
   "mimetype": "text/x-python",
   "name": "python",
   "nbconvert_exporter": "python",
   "pygments_lexer": "ipython3",
   "version": "3.7.1"
  }
 },
 "nbformat": 4,
 "nbformat_minor": 2
}
